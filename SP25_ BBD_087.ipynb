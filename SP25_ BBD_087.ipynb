{
 "cells": [
  {
   "cell_type": "markdown",
   "id": "6286967f-138b-4cfc-8ec4-ce68d1ea4b99",
   "metadata": {},
   "source": [
    "# List Iteration:"
   ]
  },
  {
   "cell_type": "markdown",
   "id": "29f05d38-fa3c-4282-ae37-07e0d0997558",
   "metadata": {},
   "source": [
    "# Create a list of your favorite movies."
   ]
  },
  {
   "cell_type": "code",
   "execution_count": 79,
   "id": "ac743b46-ac9b-4af1-bfe9-23766701b8d2",
   "metadata": {},
   "outputs": [],
   "source": [
    "movies = [\"Avengers\",\"Harry Potter\",\"lightening McQueen\"]"
   ]
  },
  {
   "cell_type": "markdown",
   "id": "892e7acd-dca6-4cca-94d6-c1d835b5fa1c",
   "metadata": {},
   "source": [
    "# Iterate over the list and print each movie title."
   ]
  },
  {
   "cell_type": "code",
   "execution_count": 81,
   "id": "4214e8c1-df37-4a37-9e5e-612199402dd0",
   "metadata": {},
   "outputs": [
    {
     "name": "stdout",
     "output_type": "stream",
     "text": [
      "Avengers\n",
      "Harry Potter\n",
      "Lightening Mcqueen\n"
     ]
    }
   ],
   "source": [
    "movies = [\"Avengers\",\"Harry Potter\",\"lightening McQueen\"]\n",
    "for movie in movies:\n",
    "     print(movie.title())"
   ]
  },
  {
   "cell_type": "markdown",
   "id": "51c6c434-af5a-4b0f-9dc8-0aada4d6a3ad",
   "metadata": {},
   "source": [
    "# Modify the loop to print the index of each movie along with its title"
   ]
  },
  {
   "cell_type": "code",
   "execution_count": 83,
   "id": "fb6553a0-e3f3-45e6-919e-415f4bc5765c",
   "metadata": {},
   "outputs": [
    {
     "name": "stdout",
     "output_type": "stream",
     "text": [
      "0 Avengers\n",
      "1 Harry Potter\n",
      "2 Lightening Mcqueen\n"
     ]
    }
   ],
   "source": [
    "movies = [\"Avengers\",\"Harry Potter\",\"lightening McQueen\"]\n",
    "for i in range(len(movies)):\n",
    "    print(i,  movies[i].title())"
   ]
  },
  {
   "cell_type": "markdown",
   "id": "d2b8c6ce-a5d4-4e9f-aaad-a0d3e6d44b0b",
   "metadata": {},
   "source": [
    "# String Iteration:"
   ]
  },
  {
   "cell_type": "markdown",
   "id": "9453f7c9-bf24-4ed6-ba98-a940823d67a2",
   "metadata": {},
   "source": [
    "# Create a string variable containing your full name."
   ]
  },
  {
   "cell_type": "code",
   "execution_count": 86,
   "id": "a8a7df54-0d10-4cdf-8285-f8aeca03b52f",
   "metadata": {},
   "outputs": [],
   "source": [
    "first_name = \"faria\"\n",
    "last_name = \"akmal\"\n",
    "full_name = first_name+\" \" +last_name"
   ]
  },
  {
   "cell_type": "markdown",
   "id": "70605469-26df-4ee3-b6c3-585afb408b90",
   "metadata": {},
   "source": [
    "# iterate over the string and print each character on a new line ."
   ]
  },
  {
   "cell_type": "code",
   "execution_count": 88,
   "id": "b99c9d1a-df41-4192-b311-d0094d58ebc3",
   "metadata": {},
   "outputs": [
    {
     "name": "stdout",
     "output_type": "stream",
     "text": [
      "f\n",
      "a\n",
      "r\n",
      "i\n",
      "a\n",
      " \n",
      "a\n",
      "k\n",
      "m\n",
      "a\n",
      "l\n"
     ]
    }
   ],
   "source": [
    "full_name = \"faria akmal\"\n",
    "for char in full_name:\n",
    "    print(char)"
   ]
  },
  {
   "cell_type": "markdown",
   "id": "18edc65d-50f8-4560-8da8-4e743b429e74",
   "metadata": {},
   "source": [
    "# count the number of vowels in the string."
   ]
  },
  {
   "cell_type": "code",
   "execution_count": 90,
   "id": "8a8e2e81-2534-4fc2-9f8c-3f7b85d20b84",
   "metadata": {},
   "outputs": [],
   "source": [
    "full_name = \"faria akmal\"\n",
    "count = sum(char in \"aeiou\"for char in full_name)"
   ]
  }
 ],
 "metadata": {
  "kernelspec": {
   "display_name": "Python [conda env:base] *",
   "language": "python",
   "name": "conda-base-py"
  },
  "language_info": {
   "codemirror_mode": {
    "name": "ipython",
    "version": 3
   },
   "file_extension": ".py",
   "mimetype": "text/x-python",
   "name": "python",
   "nbconvert_exporter": "python",
   "pygments_lexer": "ipython3",
   "version": "3.12.7"
  }
 },
 "nbformat": 4,
 "nbformat_minor": 5
}
